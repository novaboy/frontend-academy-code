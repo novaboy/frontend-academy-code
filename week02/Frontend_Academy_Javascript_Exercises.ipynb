{
  "nbformat": 4,
  "nbformat_minor": 0,
  "metadata": {
    "colab": {
      "provenance": []
    },
    "kernelspec": {
      "name": "python3",
      "display_name": "Python 3"
    },
    "language_info": {
      "name": "python"
    }
  },
  "cells": [
    {
      "cell_type": "markdown",
      "source": [
        "# Beginning Javscript Exercises\n"
      ],
      "metadata": {
        "id": "Nr1An9Hg5Srj"
      }
    },
    {
      "cell_type": "markdown",
      "source": [
        "1. **Hello, World!**\n",
        "   Write a program that prints \"Hello, World!\" to the console.\n",
        "\n",
        "2. **Sum of Two Numbers**\n",
        "   Write a function that takes two numbers as arguments and returns their sum.\n",
        "\n",
        "3. **Even or Odd**\n",
        "   Write a function that checks whether a given number is even or odd.\n",
        "\n",
        "4. **String Length**\n",
        "   Write a function that takes a string as an argument and returns its length.\n",
        "\n",
        "5. **Largest of Three Numbers**\n",
        "   Write a function that takes three numbers as arguments and returns the largest of them.\n",
        "\n",
        "6. **Palindrome Check**\n",
        "   Write a function that checks whether a given string is a palindrome.\n",
        "\n",
        "7. **Factorial Calculation**\n",
        "   Write a function that calculates the factorial of a given number.\n",
        "\n",
        "8. **Fibonacci Sequence**\n",
        "   Write a function that generates the first n numbers in the Fibonacci sequence.\n",
        "\n",
        "9. **Reverse a String**\n",
        "   Write a function that takes a string as an argument and returns the reversed string.\n",
        "\n",
        "10. **Sum of Array Elements**\n",
        "    Write a function that takes an array of numbers and returns the sum of its elements.\n",
        "\n",
        "11. **Find the Maximum Element in an Array**\n",
        "    Write a function that takes an array of numbers and returns the maximum element.\n",
        "\n",
        "12. **Count Vowels in a String**\n",
        "    Write a function that counts the number of vowels in a given string.\n",
        "\n",
        "13. **Remove Duplicates from an Array**\n",
        "    Write a function that takes an array and returns a new array with duplicate elements removed.\n",
        "\n",
        "14. **Prime Number Check**\n",
        "    Write a function that checks whether a given number is a prime number.\n",
        "\n",
        "15. **Merge Two Arrays**\n",
        "    Write a function that takes two arrays and merges them into one.\n",
        "\n",
        "16. **Sort an Array**\n",
        "    Write a function that sorts an array of numbers in ascending order.\n",
        "\n",
        "17. **Random Number Generator**\n",
        "    Write a function that generates a random number between a given range.\n",
        "\n",
        "18. **Convert Celsius to Fahrenheit**\n",
        "    Write a function that converts a temperature from Celsius to Fahrenheit.\n",
        "\n",
        "19. **Find the Second Largest Number in an Array**\n",
        "    Write a function that finds the second largest number in an array.\n",
        "\n",
        "20. **Count Occurrences of a Character in a String**\n",
        "    Write a function that counts how many times a specific character appears in a given string.\n"
      ],
      "metadata": {
        "id": "n0ZHJLZg4_QN"
      }
    },
    {
      "cell_type": "markdown",
      "source": [
        "# Javascript DOM Exercises\n"
      ],
      "metadata": {
        "id": "vH0jlKmf5Z0B"
      }
    },
    {
      "cell_type": "markdown",
      "source": [
        "1. **Change Text Content**\n",
        "   Write a function that changes the text content of an HTML element with a given ID.\n",
        "\n",
        "2. **Change Background Color**\n",
        "   Write a function that changes the background color of a web page when a button is clicked.\n",
        "\n",
        "3. **Show/Hide Element**\n",
        "   Write a function that toggles the visibility of an HTML element when a button is clicked.\n",
        "\n",
        "4. **Create and Append Element**\n",
        "   Write a function that creates a new HTML element (e.g., a paragraph) and appends it to an existing element on the page.\n",
        "\n",
        "5. **Remove Element**\n",
        "   Write a function that removes an HTML element with a given ID from the web page.\n",
        "\n",
        "6. **Change Image Source**\n",
        "   Write a function that changes the source of an image when a button is clicked.\n",
        "\n",
        "7. **Form Input Value**\n",
        "   Write a function that gets the value from an input field and displays it in an alert when a button is clicked.\n",
        "\n",
        "8. **Add Class to Element**\n",
        "   Write a function that adds a CSS class to an HTML element when a button is clicked.\n",
        "\n",
        "9. **Remove Class from Element**\n",
        "   Write a function that removes a CSS class from an HTML element when a button is clicked.\n",
        "\n",
        "10. **Toggle Class**\n",
        "    Write a function that toggles a CSS class on an HTML element when a button is clicked.\n",
        "\n",
        "11. **Change Text Color**\n",
        "    Write a function that changes the text color of an HTML element when a button is clicked.\n",
        "\n",
        "12. **Create List Items**\n",
        "    Write a function that takes an array of strings and creates a list item for each string, appending them to an unordered list.\n",
        "\n",
        "13. **Highlight List Items**\n",
        "    Write a function that highlights (changes the background color of) all list items in an unordered list when a button is clicked.\n",
        "\n",
        "14. **Count Clicks**\n",
        "    Write a function that counts how many times a button has been clicked and displays the count on the web page.\n",
        "\n",
        "15. **Disable/Enable Button**\n",
        "    Write a function that disables a button after it has been clicked, and enables it again after 3 seconds.\n",
        "\n",
        "16. **Input Validation**\n",
        "    Write a function that validates an email input field and displays a message if the input is not a valid email address.\n",
        "\n",
        "17. **Change Font Size**\n",
        "    Write a function that changes the font size of a paragraph when a button is clicked.\n",
        "\n",
        "18. **Image Slider**\n",
        "    Write a function that creates a simple image slider with next and previous buttons to cycle through images.\n",
        "\n",
        "19. **Dynamic Table**\n",
        "    Write a function that creates a table from a 2D array of data and appends it to an HTML element.\n",
        "\n",
        "20. **Form Submission**\n",
        "    Write a function that prevents the default form submission, gets the form data, and displays it on the web page.\n"
      ],
      "metadata": {
        "id": "i4Caddpk5dIM"
      }
    }
  ]
}